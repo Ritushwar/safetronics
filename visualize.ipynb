{
 "cells": [
  {
   "cell_type": "code",
   "execution_count": 44,
   "id": "224494cd",
   "metadata": {},
   "outputs": [],
   "source": [
    "import numpy as numpy \n",
    "import pandas as pd\n",
    "import seaborn as sns\n",
    "import matplotlib.pyplot as plt"
   ]
  },
  {
   "cell_type": "code",
   "execution_count": 25,
   "id": "b655b317",
   "metadata": {},
   "outputs": [],
   "source": [
    "df = pd.read_csv(\"../safetronics/human_vital_signs_dataset_2024.csv\")"
   ]
  },
  {
   "cell_type": "code",
   "execution_count": 26,
   "id": "aa799cda",
   "metadata": {},
   "outputs": [
    {
     "data": {
      "text/html": [
       "<div>\n",
       "<style scoped>\n",
       "    .dataframe tbody tr th:only-of-type {\n",
       "        vertical-align: middle;\n",
       "    }\n",
       "\n",
       "    .dataframe tbody tr th {\n",
       "        vertical-align: top;\n",
       "    }\n",
       "\n",
       "    .dataframe thead th {\n",
       "        text-align: right;\n",
       "    }\n",
       "</style>\n",
       "<table border=\"1\" class=\"dataframe\">\n",
       "  <thead>\n",
       "    <tr style=\"text-align: right;\">\n",
       "      <th></th>\n",
       "      <th>Patient ID</th>\n",
       "      <th>Heart Rate</th>\n",
       "      <th>Respiratory Rate</th>\n",
       "      <th>Timestamp</th>\n",
       "      <th>Body Temperature</th>\n",
       "      <th>Oxygen Saturation</th>\n",
       "      <th>Systolic Blood Pressure</th>\n",
       "      <th>Diastolic Blood Pressure</th>\n",
       "      <th>Age</th>\n",
       "      <th>Gender</th>\n",
       "      <th>Weight (kg)</th>\n",
       "      <th>Height (m)</th>\n",
       "      <th>Derived_HRV</th>\n",
       "      <th>Derived_Pulse_Pressure</th>\n",
       "      <th>Derived_BMI</th>\n",
       "      <th>Derived_MAP</th>\n",
       "      <th>Risk Category</th>\n",
       "    </tr>\n",
       "  </thead>\n",
       "  <tbody>\n",
       "    <tr>\n",
       "      <th>0</th>\n",
       "      <td>1</td>\n",
       "      <td>60</td>\n",
       "      <td>12</td>\n",
       "      <td>2024-07-19 21:53:45.729841</td>\n",
       "      <td>36.861707</td>\n",
       "      <td>95.702046</td>\n",
       "      <td>124</td>\n",
       "      <td>86</td>\n",
       "      <td>37</td>\n",
       "      <td>Female</td>\n",
       "      <td>91.541618</td>\n",
       "      <td>1.679351</td>\n",
       "      <td>0.121033</td>\n",
       "      <td>38</td>\n",
       "      <td>32.459031</td>\n",
       "      <td>98.666667</td>\n",
       "      <td>High Risk</td>\n",
       "    </tr>\n",
       "    <tr>\n",
       "      <th>1</th>\n",
       "      <td>2</td>\n",
       "      <td>63</td>\n",
       "      <td>18</td>\n",
       "      <td>2024-07-19 21:52:45.729841</td>\n",
       "      <td>36.511633</td>\n",
       "      <td>96.689413</td>\n",
       "      <td>126</td>\n",
       "      <td>84</td>\n",
       "      <td>77</td>\n",
       "      <td>Male</td>\n",
       "      <td>50.704921</td>\n",
       "      <td>1.992546</td>\n",
       "      <td>0.117062</td>\n",
       "      <td>42</td>\n",
       "      <td>12.771246</td>\n",
       "      <td>98.000000</td>\n",
       "      <td>High Risk</td>\n",
       "    </tr>\n",
       "    <tr>\n",
       "      <th>2</th>\n",
       "      <td>3</td>\n",
       "      <td>63</td>\n",
       "      <td>15</td>\n",
       "      <td>2024-07-19 21:51:45.729841</td>\n",
       "      <td>37.052049</td>\n",
       "      <td>98.508265</td>\n",
       "      <td>131</td>\n",
       "      <td>78</td>\n",
       "      <td>68</td>\n",
       "      <td>Female</td>\n",
       "      <td>90.316760</td>\n",
       "      <td>1.770228</td>\n",
       "      <td>0.053200</td>\n",
       "      <td>53</td>\n",
       "      <td>28.821069</td>\n",
       "      <td>95.666667</td>\n",
       "      <td>Low Risk</td>\n",
       "    </tr>\n",
       "    <tr>\n",
       "      <th>3</th>\n",
       "      <td>4</td>\n",
       "      <td>99</td>\n",
       "      <td>16</td>\n",
       "      <td>2024-07-19 21:50:45.729841</td>\n",
       "      <td>36.654748</td>\n",
       "      <td>95.011801</td>\n",
       "      <td>118</td>\n",
       "      <td>72</td>\n",
       "      <td>41</td>\n",
       "      <td>Female</td>\n",
       "      <td>96.006188</td>\n",
       "      <td>1.833629</td>\n",
       "      <td>0.064475</td>\n",
       "      <td>46</td>\n",
       "      <td>28.554611</td>\n",
       "      <td>87.333333</td>\n",
       "      <td>High Risk</td>\n",
       "    </tr>\n",
       "    <tr>\n",
       "      <th>4</th>\n",
       "      <td>5</td>\n",
       "      <td>69</td>\n",
       "      <td>16</td>\n",
       "      <td>2024-07-19 21:49:45.729841</td>\n",
       "      <td>36.975098</td>\n",
       "      <td>98.623792</td>\n",
       "      <td>138</td>\n",
       "      <td>76</td>\n",
       "      <td>25</td>\n",
       "      <td>Female</td>\n",
       "      <td>56.020006</td>\n",
       "      <td>1.866419</td>\n",
       "      <td>0.118484</td>\n",
       "      <td>62</td>\n",
       "      <td>16.081438</td>\n",
       "      <td>96.666667</td>\n",
       "      <td>High Risk</td>\n",
       "    </tr>\n",
       "  </tbody>\n",
       "</table>\n",
       "</div>"
      ],
      "text/plain": [
       "   Patient ID  Heart Rate  Respiratory Rate                   Timestamp  \\\n",
       "0           1          60                12  2024-07-19 21:53:45.729841   \n",
       "1           2          63                18  2024-07-19 21:52:45.729841   \n",
       "2           3          63                15  2024-07-19 21:51:45.729841   \n",
       "3           4          99                16  2024-07-19 21:50:45.729841   \n",
       "4           5          69                16  2024-07-19 21:49:45.729841   \n",
       "\n",
       "   Body Temperature  Oxygen Saturation  Systolic Blood Pressure  \\\n",
       "0         36.861707          95.702046                      124   \n",
       "1         36.511633          96.689413                      126   \n",
       "2         37.052049          98.508265                      131   \n",
       "3         36.654748          95.011801                      118   \n",
       "4         36.975098          98.623792                      138   \n",
       "\n",
       "   Diastolic Blood Pressure  Age  Gender  Weight (kg)  Height (m)  \\\n",
       "0                        86   37  Female    91.541618    1.679351   \n",
       "1                        84   77    Male    50.704921    1.992546   \n",
       "2                        78   68  Female    90.316760    1.770228   \n",
       "3                        72   41  Female    96.006188    1.833629   \n",
       "4                        76   25  Female    56.020006    1.866419   \n",
       "\n",
       "   Derived_HRV  Derived_Pulse_Pressure  Derived_BMI  Derived_MAP Risk Category  \n",
       "0     0.121033                      38    32.459031    98.666667     High Risk  \n",
       "1     0.117062                      42    12.771246    98.000000     High Risk  \n",
       "2     0.053200                      53    28.821069    95.666667      Low Risk  \n",
       "3     0.064475                      46    28.554611    87.333333     High Risk  \n",
       "4     0.118484                      62    16.081438    96.666667     High Risk  "
      ]
     },
     "execution_count": 26,
     "metadata": {},
     "output_type": "execute_result"
    }
   ],
   "source": [
    "df.head()"
   ]
  },
  {
   "cell_type": "code",
   "execution_count": 27,
   "id": "eed13eb8",
   "metadata": {},
   "outputs": [
    {
     "name": "stdout",
     "output_type": "stream",
     "text": [
      "<class 'pandas.core.frame.DataFrame'>\n",
      "RangeIndex: 200020 entries, 0 to 200019\n",
      "Data columns (total 17 columns):\n",
      " #   Column                    Non-Null Count   Dtype  \n",
      "---  ------                    --------------   -----  \n",
      " 0   Patient ID                200020 non-null  int64  \n",
      " 1   Heart Rate                200020 non-null  int64  \n",
      " 2   Respiratory Rate          200020 non-null  int64  \n",
      " 3   Timestamp                 200020 non-null  object \n",
      " 4   Body Temperature          200020 non-null  float64\n",
      " 5   Oxygen Saturation         200020 non-null  float64\n",
      " 6   Systolic Blood Pressure   200020 non-null  int64  \n",
      " 7   Diastolic Blood Pressure  200020 non-null  int64  \n",
      " 8   Age                       200020 non-null  int64  \n",
      " 9   Gender                    200020 non-null  object \n",
      " 10  Weight (kg)               200020 non-null  float64\n",
      " 11  Height (m)                200020 non-null  float64\n",
      " 12  Derived_HRV               200020 non-null  float64\n",
      " 13  Derived_Pulse_Pressure    200020 non-null  int64  \n",
      " 14  Derived_BMI               200020 non-null  float64\n",
      " 15  Derived_MAP               200020 non-null  float64\n",
      " 16  Risk Category             200020 non-null  object \n",
      "dtypes: float64(7), int64(7), object(3)\n",
      "memory usage: 25.9+ MB\n"
     ]
    }
   ],
   "source": [
    "df.info()"
   ]
  },
  {
   "cell_type": "markdown",
   "id": "cf84a877",
   "metadata": {},
   "source": [
    "## Drop unused columns"
   ]
  },
  {
   "cell_type": "code",
   "execution_count": 28,
   "id": "e4e32897",
   "metadata": {},
   "outputs": [],
   "source": [
    "df_1 = df.drop(['Respiratory Rate','Timestamp','Systolic Blood Pressure','Diastolic Blood Pressure','Derived_Pulse_Pressure','Derived_MAP'],axis=1)"
   ]
  },
  {
   "cell_type": "code",
   "execution_count": 29,
   "id": "14617c71",
   "metadata": {},
   "outputs": [
    {
     "name": "stdout",
     "output_type": "stream",
     "text": [
      "<class 'pandas.core.frame.DataFrame'>\n",
      "RangeIndex: 200020 entries, 0 to 200019\n",
      "Data columns (total 11 columns):\n",
      " #   Column             Non-Null Count   Dtype  \n",
      "---  ------             --------------   -----  \n",
      " 0   Patient ID         200020 non-null  int64  \n",
      " 1   Heart Rate         200020 non-null  int64  \n",
      " 2   Body Temperature   200020 non-null  float64\n",
      " 3   Oxygen Saturation  200020 non-null  float64\n",
      " 4   Age                200020 non-null  int64  \n",
      " 5   Gender             200020 non-null  object \n",
      " 6   Weight (kg)        200020 non-null  float64\n",
      " 7   Height (m)         200020 non-null  float64\n",
      " 8   Derived_HRV        200020 non-null  float64\n",
      " 9   Derived_BMI        200020 non-null  float64\n",
      " 10  Risk Category      200020 non-null  object \n",
      "dtypes: float64(6), int64(3), object(2)\n",
      "memory usage: 16.8+ MB\n"
     ]
    }
   ],
   "source": [
    "df_1.info()"
   ]
  },
  {
   "cell_type": "code",
   "execution_count": 30,
   "id": "d051239d",
   "metadata": {},
   "outputs": [],
   "source": [
    "df_1.set_index('Patient ID', inplace=True)"
   ]
  },
  {
   "cell_type": "code",
   "execution_count": 31,
   "id": "cc8e7755",
   "metadata": {},
   "outputs": [
    {
     "name": "stdout",
     "output_type": "stream",
     "text": [
      "<class 'pandas.core.frame.DataFrame'>\n",
      "Index: 200020 entries, 1 to 200020\n",
      "Data columns (total 10 columns):\n",
      " #   Column             Non-Null Count   Dtype  \n",
      "---  ------             --------------   -----  \n",
      " 0   Heart Rate         200020 non-null  int64  \n",
      " 1   Body Temperature   200020 non-null  float64\n",
      " 2   Oxygen Saturation  200020 non-null  float64\n",
      " 3   Age                200020 non-null  int64  \n",
      " 4   Gender             200020 non-null  object \n",
      " 5   Weight (kg)        200020 non-null  float64\n",
      " 6   Height (m)         200020 non-null  float64\n",
      " 7   Derived_HRV        200020 non-null  float64\n",
      " 8   Derived_BMI        200020 non-null  float64\n",
      " 9   Risk Category      200020 non-null  object \n",
      "dtypes: float64(6), int64(2), object(2)\n",
      "memory usage: 16.8+ MB\n"
     ]
    }
   ],
   "source": [
    "df_1.info()"
   ]
  },
  {
   "cell_type": "code",
   "execution_count": 34,
   "id": "8632f284",
   "metadata": {},
   "outputs": [],
   "source": [
    "df_1.rename(columns={\"Weight (kg)\":\"Weight\",\"Derived_HRV\":\"HRV\",\"Derived_BMI\":\"BMI\"},inplace=True)"
   ]
  },
  {
   "cell_type": "code",
   "execution_count": 38,
   "id": "ffacefdf",
   "metadata": {},
   "outputs": [
    {
     "data": {
      "text/html": [
       "<div>\n",
       "<style scoped>\n",
       "    .dataframe tbody tr th:only-of-type {\n",
       "        vertical-align: middle;\n",
       "    }\n",
       "\n",
       "    .dataframe tbody tr th {\n",
       "        vertical-align: top;\n",
       "    }\n",
       "\n",
       "    .dataframe thead th {\n",
       "        text-align: right;\n",
       "    }\n",
       "</style>\n",
       "<table border=\"1\" class=\"dataframe\">\n",
       "  <thead>\n",
       "    <tr style=\"text-align: right;\">\n",
       "      <th></th>\n",
       "      <th>Heart Rate</th>\n",
       "      <th>Body Temperature</th>\n",
       "      <th>Oxygen Saturation</th>\n",
       "      <th>Age</th>\n",
       "      <th>Gender</th>\n",
       "      <th>Weight</th>\n",
       "      <th>Height (m)</th>\n",
       "      <th>HRV</th>\n",
       "      <th>BMI</th>\n",
       "      <th>Risk Category</th>\n",
       "    </tr>\n",
       "    <tr>\n",
       "      <th>Patient ID</th>\n",
       "      <th></th>\n",
       "      <th></th>\n",
       "      <th></th>\n",
       "      <th></th>\n",
       "      <th></th>\n",
       "      <th></th>\n",
       "      <th></th>\n",
       "      <th></th>\n",
       "      <th></th>\n",
       "      <th></th>\n",
       "    </tr>\n",
       "  </thead>\n",
       "  <tbody>\n",
       "    <tr>\n",
       "      <th>1</th>\n",
       "      <td>60</td>\n",
       "      <td>36.861707</td>\n",
       "      <td>95.702046</td>\n",
       "      <td>37</td>\n",
       "      <td>Female</td>\n",
       "      <td>91.541618</td>\n",
       "      <td>1.679351</td>\n",
       "      <td>0.121033</td>\n",
       "      <td>32.459031</td>\n",
       "      <td>High Risk</td>\n",
       "    </tr>\n",
       "    <tr>\n",
       "      <th>2</th>\n",
       "      <td>63</td>\n",
       "      <td>36.511633</td>\n",
       "      <td>96.689413</td>\n",
       "      <td>77</td>\n",
       "      <td>Male</td>\n",
       "      <td>50.704921</td>\n",
       "      <td>1.992546</td>\n",
       "      <td>0.117062</td>\n",
       "      <td>12.771246</td>\n",
       "      <td>High Risk</td>\n",
       "    </tr>\n",
       "    <tr>\n",
       "      <th>3</th>\n",
       "      <td>63</td>\n",
       "      <td>37.052049</td>\n",
       "      <td>98.508265</td>\n",
       "      <td>68</td>\n",
       "      <td>Female</td>\n",
       "      <td>90.316760</td>\n",
       "      <td>1.770228</td>\n",
       "      <td>0.053200</td>\n",
       "      <td>28.821069</td>\n",
       "      <td>Low Risk</td>\n",
       "    </tr>\n",
       "    <tr>\n",
       "      <th>4</th>\n",
       "      <td>99</td>\n",
       "      <td>36.654748</td>\n",
       "      <td>95.011801</td>\n",
       "      <td>41</td>\n",
       "      <td>Female</td>\n",
       "      <td>96.006188</td>\n",
       "      <td>1.833629</td>\n",
       "      <td>0.064475</td>\n",
       "      <td>28.554611</td>\n",
       "      <td>High Risk</td>\n",
       "    </tr>\n",
       "    <tr>\n",
       "      <th>5</th>\n",
       "      <td>69</td>\n",
       "      <td>36.975098</td>\n",
       "      <td>98.623792</td>\n",
       "      <td>25</td>\n",
       "      <td>Female</td>\n",
       "      <td>56.020006</td>\n",
       "      <td>1.866419</td>\n",
       "      <td>0.118484</td>\n",
       "      <td>16.081438</td>\n",
       "      <td>High Risk</td>\n",
       "    </tr>\n",
       "  </tbody>\n",
       "</table>\n",
       "</div>"
      ],
      "text/plain": [
       "            Heart Rate  Body Temperature  Oxygen Saturation  Age  Gender  \\\n",
       "Patient ID                                                                 \n",
       "1                   60         36.861707          95.702046   37  Female   \n",
       "2                   63         36.511633          96.689413   77    Male   \n",
       "3                   63         37.052049          98.508265   68  Female   \n",
       "4                   99         36.654748          95.011801   41  Female   \n",
       "5                   69         36.975098          98.623792   25  Female   \n",
       "\n",
       "               Weight  Height (m)       HRV        BMI Risk Category  \n",
       "Patient ID                                                            \n",
       "1           91.541618    1.679351  0.121033  32.459031     High Risk  \n",
       "2           50.704921    1.992546  0.117062  12.771246     High Risk  \n",
       "3           90.316760    1.770228  0.053200  28.821069      Low Risk  \n",
       "4           96.006188    1.833629  0.064475  28.554611     High Risk  \n",
       "5           56.020006    1.866419  0.118484  16.081438     High Risk  "
      ]
     },
     "execution_count": 38,
     "metadata": {},
     "output_type": "execute_result"
    }
   ],
   "source": [
    "df_1.head()"
   ]
  },
  {
   "cell_type": "code",
   "execution_count": 39,
   "id": "527953d4",
   "metadata": {},
   "outputs": [
    {
     "data": {
      "text/plain": [
       "array(['High Risk', 'Low Risk'], dtype=object)"
      ]
     },
     "execution_count": 39,
     "metadata": {},
     "output_type": "execute_result"
    }
   ],
   "source": [
    "# checking total category\n",
    "df_1['Risk Category'].unique()"
   ]
  },
  {
   "cell_type": "code",
   "execution_count": 42,
   "id": "a96c43ef",
   "metadata": {},
   "outputs": [],
   "source": [
    "# mapping low risk and high risk to numeric valu\n",
    "df_1['Risk Category'] = df_1['Risk Category'].map({\"High Risk\":1, \"Low Risk\":0})"
   ]
  },
  {
   "cell_type": "code",
   "execution_count": 43,
   "id": "72b6aa36",
   "metadata": {},
   "outputs": [
    {
     "data": {
      "text/html": [
       "<div>\n",
       "<style scoped>\n",
       "    .dataframe tbody tr th:only-of-type {\n",
       "        vertical-align: middle;\n",
       "    }\n",
       "\n",
       "    .dataframe tbody tr th {\n",
       "        vertical-align: top;\n",
       "    }\n",
       "\n",
       "    .dataframe thead th {\n",
       "        text-align: right;\n",
       "    }\n",
       "</style>\n",
       "<table border=\"1\" class=\"dataframe\">\n",
       "  <thead>\n",
       "    <tr style=\"text-align: right;\">\n",
       "      <th></th>\n",
       "      <th>Heart Rate</th>\n",
       "      <th>Body Temperature</th>\n",
       "      <th>Oxygen Saturation</th>\n",
       "      <th>Age</th>\n",
       "      <th>Gender</th>\n",
       "      <th>Weight</th>\n",
       "      <th>Height (m)</th>\n",
       "      <th>HRV</th>\n",
       "      <th>BMI</th>\n",
       "      <th>Risk Category</th>\n",
       "    </tr>\n",
       "    <tr>\n",
       "      <th>Patient ID</th>\n",
       "      <th></th>\n",
       "      <th></th>\n",
       "      <th></th>\n",
       "      <th></th>\n",
       "      <th></th>\n",
       "      <th></th>\n",
       "      <th></th>\n",
       "      <th></th>\n",
       "      <th></th>\n",
       "      <th></th>\n",
       "    </tr>\n",
       "  </thead>\n",
       "  <tbody>\n",
       "    <tr>\n",
       "      <th>1</th>\n",
       "      <td>60</td>\n",
       "      <td>36.861707</td>\n",
       "      <td>95.702046</td>\n",
       "      <td>37</td>\n",
       "      <td>Female</td>\n",
       "      <td>91.541618</td>\n",
       "      <td>1.679351</td>\n",
       "      <td>0.121033</td>\n",
       "      <td>32.459031</td>\n",
       "      <td>1</td>\n",
       "    </tr>\n",
       "    <tr>\n",
       "      <th>2</th>\n",
       "      <td>63</td>\n",
       "      <td>36.511633</td>\n",
       "      <td>96.689413</td>\n",
       "      <td>77</td>\n",
       "      <td>Male</td>\n",
       "      <td>50.704921</td>\n",
       "      <td>1.992546</td>\n",
       "      <td>0.117062</td>\n",
       "      <td>12.771246</td>\n",
       "      <td>1</td>\n",
       "    </tr>\n",
       "    <tr>\n",
       "      <th>3</th>\n",
       "      <td>63</td>\n",
       "      <td>37.052049</td>\n",
       "      <td>98.508265</td>\n",
       "      <td>68</td>\n",
       "      <td>Female</td>\n",
       "      <td>90.316760</td>\n",
       "      <td>1.770228</td>\n",
       "      <td>0.053200</td>\n",
       "      <td>28.821069</td>\n",
       "      <td>0</td>\n",
       "    </tr>\n",
       "    <tr>\n",
       "      <th>4</th>\n",
       "      <td>99</td>\n",
       "      <td>36.654748</td>\n",
       "      <td>95.011801</td>\n",
       "      <td>41</td>\n",
       "      <td>Female</td>\n",
       "      <td>96.006188</td>\n",
       "      <td>1.833629</td>\n",
       "      <td>0.064475</td>\n",
       "      <td>28.554611</td>\n",
       "      <td>1</td>\n",
       "    </tr>\n",
       "    <tr>\n",
       "      <th>5</th>\n",
       "      <td>69</td>\n",
       "      <td>36.975098</td>\n",
       "      <td>98.623792</td>\n",
       "      <td>25</td>\n",
       "      <td>Female</td>\n",
       "      <td>56.020006</td>\n",
       "      <td>1.866419</td>\n",
       "      <td>0.118484</td>\n",
       "      <td>16.081438</td>\n",
       "      <td>1</td>\n",
       "    </tr>\n",
       "  </tbody>\n",
       "</table>\n",
       "</div>"
      ],
      "text/plain": [
       "            Heart Rate  Body Temperature  Oxygen Saturation  Age  Gender  \\\n",
       "Patient ID                                                                 \n",
       "1                   60         36.861707          95.702046   37  Female   \n",
       "2                   63         36.511633          96.689413   77    Male   \n",
       "3                   63         37.052049          98.508265   68  Female   \n",
       "4                   99         36.654748          95.011801   41  Female   \n",
       "5                   69         36.975098          98.623792   25  Female   \n",
       "\n",
       "               Weight  Height (m)       HRV        BMI  Risk Category  \n",
       "Patient ID                                                             \n",
       "1           91.541618    1.679351  0.121033  32.459031              1  \n",
       "2           50.704921    1.992546  0.117062  12.771246              1  \n",
       "3           90.316760    1.770228  0.053200  28.821069              0  \n",
       "4           96.006188    1.833629  0.064475  28.554611              1  \n",
       "5           56.020006    1.866419  0.118484  16.081438              1  "
      ]
     },
     "execution_count": 43,
     "metadata": {},
     "output_type": "execute_result"
    }
   ],
   "source": [
    "df_1.head()"
   ]
  },
  {
   "cell_type": "markdown",
   "id": "1dd88e7b",
   "metadata": {},
   "source": [
    "## Correlation Between Heart Rate and Risk Category"
   ]
  },
  {
   "cell_type": "code",
   "execution_count": 50,
   "id": "62319bb5",
   "metadata": {},
   "outputs": [],
   "source": [
    "# calculating Pearson correlation for checking the correlation between\n",
    "# Heart rate and Risk Category\n",
    "\n",
    "# ensure for numeric value\n",
    "df_1['Heart Rate'] = pd.to_numeric(df_1['Heart Rate'],errors='coerce')\n",
    "# df_corr = df_1.dropna(subset=['Heart Rate', 'Risk Category']) // optional if NULL data \n",
    "df_corr = df_1[['Heart Rate','Risk Category']]"
   ]
  },
  {
   "cell_type": "code",
   "execution_count": 51,
   "id": "db53e7e3",
   "metadata": {},
   "outputs": [
    {
     "data": {
      "text/html": [
       "<div>\n",
       "<style scoped>\n",
       "    .dataframe tbody tr th:only-of-type {\n",
       "        vertical-align: middle;\n",
       "    }\n",
       "\n",
       "    .dataframe tbody tr th {\n",
       "        vertical-align: top;\n",
       "    }\n",
       "\n",
       "    .dataframe thead th {\n",
       "        text-align: right;\n",
       "    }\n",
       "</style>\n",
       "<table border=\"1\" class=\"dataframe\">\n",
       "  <thead>\n",
       "    <tr style=\"text-align: right;\">\n",
       "      <th></th>\n",
       "      <th>Heart Rate</th>\n",
       "      <th>Risk Category</th>\n",
       "    </tr>\n",
       "    <tr>\n",
       "      <th>Patient ID</th>\n",
       "      <th></th>\n",
       "      <th></th>\n",
       "    </tr>\n",
       "  </thead>\n",
       "  <tbody>\n",
       "    <tr>\n",
       "      <th>1</th>\n",
       "      <td>60</td>\n",
       "      <td>1</td>\n",
       "    </tr>\n",
       "    <tr>\n",
       "      <th>2</th>\n",
       "      <td>63</td>\n",
       "      <td>1</td>\n",
       "    </tr>\n",
       "    <tr>\n",
       "      <th>3</th>\n",
       "      <td>63</td>\n",
       "      <td>0</td>\n",
       "    </tr>\n",
       "    <tr>\n",
       "      <th>4</th>\n",
       "      <td>99</td>\n",
       "      <td>1</td>\n",
       "    </tr>\n",
       "    <tr>\n",
       "      <th>5</th>\n",
       "      <td>69</td>\n",
       "      <td>1</td>\n",
       "    </tr>\n",
       "  </tbody>\n",
       "</table>\n",
       "</div>"
      ],
      "text/plain": [
       "            Heart Rate  Risk Category\n",
       "Patient ID                           \n",
       "1                   60              1\n",
       "2                   63              1\n",
       "3                   63              0\n",
       "4                   99              1\n",
       "5                   69              1"
      ]
     },
     "execution_count": 51,
     "metadata": {},
     "output_type": "execute_result"
    }
   ],
   "source": [
    "df_corr.head()"
   ]
  },
  {
   "cell_type": "code",
   "execution_count": 52,
   "id": "f01b85e5",
   "metadata": {},
   "outputs": [
    {
     "name": "stdout",
     "output_type": "stream",
     "text": [
      "Pearson: 0.36848667302916466\n"
     ]
    }
   ],
   "source": [
    "# pearson correlation\n",
    "pearson = df_corr['Heart Rate'].corr(df_corr['Risk Category'])\n",
    "print(f\"Pearson: {pearson}\")"
   ]
  },
  {
   "cell_type": "code",
   "execution_count": 54,
   "id": "92159987",
   "metadata": {},
   "outputs": [
    {
     "name": "stdout",
     "output_type": "stream",
     "text": [
      "point-biserial r=0.3685, p=0.0\n"
     ]
    }
   ],
   "source": [
    "# point-biserial correlation\n",
    "from scipy import stats\n",
    "pb_r, pb_p = stats.pointbiserialr(df_corr['Heart Rate'],df_corr['Risk Category'])\n",
    "print(f\"point-biserial r={pb_r:.4f}, p={pb_p}\")"
   ]
  },
  {
   "cell_type": "code",
   "execution_count": 55,
   "id": "b53d9a62",
   "metadata": {},
   "outputs": [
    {
     "name": "stdout",
     "output_type": "stream",
     "text": [
      "Spearman_p:0.36862211533431805, spearman_b:0.0\n"
     ]
    }
   ],
   "source": [
    "# spearman correlation\n",
    "spearman_p, spearman_b = stats.spearmanr(df_corr['Heart Rate'],df_corr['Risk Category'])\n",
    "print(f\"Spearman_p:{spearman_p}, spearman_b:{spearman_b}\")"
   ]
  },
  {
   "cell_type": "code",
   "execution_count": 56,
   "id": "f8a977ad",
   "metadata": {},
   "outputs": [
    {
     "data": {
      "image/png": "[encoded data removed]",
      "text/plain": [
       "<Figure size 600x400 with 1 Axes>"
      ]
     },
     "metadata": {},
     "output_type": "display_data"
    }
   ],
   "source": [
    "# Visualization between Heat Rate and Risk Category\n",
    "plt.figure(figsize=(6,4))\n",
    "sns.boxplot(x='Risk Category', y='Heart Rate', data=df_corr)\n",
    "plt.title('Heart Rate by Risk Category (0=Low, 1=High)')\n",
    "plt.xlabel(\"Risk Category\")\n",
    "plt.ylabel(\"Heart Rate\")\n",
    "plt.show()"
   ]
  },
  {
   "cell_type": "markdown",
   "id": "f1e35e2e",
   "metadata": {},
   "source": [
    "## Correlation Between Body Temperature and Risk Category"
   ]
  },
  {
   "cell_type": "code",
   "execution_count": 57,
   "id": "85250bad",
   "metadata": {},
   "outputs": [
    {
     "data": {
      "text/html": [
       "<div>\n",
       "<style scoped>\n",
       "    .dataframe tbody tr th:only-of-type {\n",
       "        vertical-align: middle;\n",
       "    }\n",
       "\n",
       "    .dataframe tbody tr th {\n",
       "        vertical-align: top;\n",
       "    }\n",
       "\n",
       "    .dataframe thead th {\n",
       "        text-align: right;\n",
       "    }\n",
       "</style>\n",
       "<table border=\"1\" class=\"dataframe\">\n",
       "  <thead>\n",
       "    <tr style=\"text-align: right;\">\n",
       "      <th></th>\n",
       "      <th>Body Temperature</th>\n",
       "      <th>Risk Category</th>\n",
       "    </tr>\n",
       "    <tr>\n",
       "      <th>Patient ID</th>\n",
       "      <th></th>\n",
       "      <th></th>\n",
       "    </tr>\n",
       "  </thead>\n",
       "  <tbody>\n",
       "    <tr>\n",
       "      <th>1</th>\n",
       "      <td>36.861707</td>\n",
       "      <td>1</td>\n",
       "    </tr>\n",
       "    <tr>\n",
       "      <th>2</th>\n",
       "      <td>36.511633</td>\n",
       "      <td>1</td>\n",
       "    </tr>\n",
       "    <tr>\n",
       "      <th>3</th>\n",
       "      <td>37.052049</td>\n",
       "      <td>0</td>\n",
       "    </tr>\n",
       "    <tr>\n",
       "      <th>4</th>\n",
       "      <td>36.654748</td>\n",
       "      <td>1</td>\n",
       "    </tr>\n",
       "    <tr>\n",
       "      <th>5</th>\n",
       "      <td>36.975098</td>\n",
       "      <td>1</td>\n",
       "    </tr>\n",
       "  </tbody>\n",
       "</table>\n",
       "</div>"
      ],
      "text/plain": [
       "            Body Temperature  Risk Category\n",
       "Patient ID                                 \n",
       "1                  36.861707              1\n",
       "2                  36.511633              1\n",
       "3                  37.052049              0\n",
       "4                  36.654748              1\n",
       "5                  36.975098              1"
      ]
     },
     "execution_count": 57,
     "metadata": {},
     "output_type": "execute_result"
    }
   ],
   "source": [
    "# ensure for numeric value\n",
    "df_1['Body Temperature'] = pd.to_numeric(df_1['Body Temperature'],errors='coerce')\n",
    "# df_corr = df_1.dropna(subsets=['Body Temperature','Risk Category])   # option if NULL\n",
    "df_Corr_2 = df_1[['Body Temperature','Risk Category']]\n",
    "df_Corr_2.head()"
   ]
  },
  {
   "cell_type": "code",
   "execution_count": 58,
   "id": "782c8523",
   "metadata": {},
   "outputs": [
    {
     "name": "stdout",
     "output_type": "stream",
     "text": [
      "Pearson: 0.0011813385586117902\n"
     ]
    }
   ],
   "source": [
    "# pearson correlation\n",
    "pearson_2 = df_Corr_2['Body Temperature'].corr(df_Corr_2['Risk Category'])\n",
    "print(f\"Pearson: {pearson_2}\")"
   ]
  },
  {
   "cell_type": "code",
   "execution_count": 59,
   "id": "3ff023cd",
   "metadata": {},
   "outputs": [
    {
     "name": "stdout",
     "output_type": "stream",
     "text": [
      "pb_r:0.0011813385586117954, pb_p:0.5972675637827833\n"
     ]
    }
   ],
   "source": [
    "# point-biserial correlation\n",
    "pb_r, pb_p = stats.pointbiserialr(df_Corr_2['Body Temperature'],df_Corr_2['Risk Category'])\n",
    "print(f\"pb_r:{pb_r}, pb_p:{pb_p}\")"
   ]
  },
  {
   "cell_type": "code",
   "execution_count": 61,
   "id": "5309de5d",
   "metadata": {},
   "outputs": [
    {
     "data": {
      "image/png": "[encoded data removed]",
      "text/plain": [
       "<Figure size 600x400 with 1 Axes>"
      ]
     },
     "metadata": {},
     "output_type": "display_data"
    }
   ],
   "source": [
    "# Visualization between Heat Rate and Risk Category\n",
    "plt.figure(figsize=(6,4))\n",
    "sns.boxplot(x='Risk Category', y='Body Temperature', data=df_Corr_2)\n",
    "plt.title('Heart Rate by Risk Category (0=Low, 1=High)')\n",
    "plt.xlabel(\"Risk Category\")\n",
    "plt.ylabel(\"Body Temperature\")\n",
    "plt.show()"
   ]
  },
  {
   "cell_type": "markdown",
   "id": "b2226483",
   "metadata": {},
   "source": [
    "## Correlation between Oxygen Saturation and Risk Category"
   ]
  },
  {
   "cell_type": "code",
   "execution_count": 62,
   "id": "a0c02846",
   "metadata": {},
   "outputs": [
    {
     "data": {
      "text/html": [
       "<div>\n",
       "<style scoped>\n",
       "    .dataframe tbody tr th:only-of-type {\n",
       "        vertical-align: middle;\n",
       "    }\n",
       "\n",
       "    .dataframe tbody tr th {\n",
       "        vertical-align: top;\n",
       "    }\n",
       "\n",
       "    .dataframe thead th {\n",
       "        text-align: right;\n",
       "    }\n",
       "</style>\n",
       "<table border=\"1\" class=\"dataframe\">\n",
       "  <thead>\n",
       "    <tr style=\"text-align: right;\">\n",
       "      <th></th>\n",
       "      <th>Oxygen Saturation</th>\n",
       "      <th>Risk Category</th>\n",
       "    </tr>\n",
       "    <tr>\n",
       "      <th>Patient ID</th>\n",
       "      <th></th>\n",
       "      <th></th>\n",
       "    </tr>\n",
       "  </thead>\n",
       "  <tbody>\n",
       "    <tr>\n",
       "      <th>1</th>\n",
       "      <td>95.702046</td>\n",
       "      <td>1</td>\n",
       "    </tr>\n",
       "    <tr>\n",
       "      <th>2</th>\n",
       "      <td>96.689413</td>\n",
       "      <td>1</td>\n",
       "    </tr>\n",
       "    <tr>\n",
       "      <th>3</th>\n",
       "      <td>98.508265</td>\n",
       "      <td>0</td>\n",
       "    </tr>\n",
       "    <tr>\n",
       "      <th>4</th>\n",
       "      <td>95.011801</td>\n",
       "      <td>1</td>\n",
       "    </tr>\n",
       "    <tr>\n",
       "      <th>5</th>\n",
       "      <td>98.623792</td>\n",
       "      <td>1</td>\n",
       "    </tr>\n",
       "  </tbody>\n",
       "</table>\n",
       "</div>"
      ],
      "text/plain": [
       "            Oxygen Saturation  Risk Category\n",
       "Patient ID                                  \n",
       "1                   95.702046              1\n",
       "2                   96.689413              1\n",
       "3                   98.508265              0\n",
       "4                   95.011801              1\n",
       "5                   98.623792              1"
      ]
     },
     "execution_count": 62,
     "metadata": {},
     "output_type": "execute_result"
    }
   ],
   "source": [
    "# ensore for numeric value\n",
    "df_1['Oxygen Saturation'] = pd.to_numeric(df_1['Oxygen Saturation'],errors='coerce')\n",
    "df_corr_3 = df_1[['Oxygen Saturation','Risk Category']]\n",
    "df_corr_3.head()"
   ]
  },
  {
   "cell_type": "code",
   "execution_count": 63,
   "id": "7cb87eb3",
   "metadata": {},
   "outputs": [
    {
     "name": "stdout",
     "output_type": "stream",
     "text": [
      "Pearson: -0.0006522071149840264\n"
     ]
    }
   ],
   "source": [
    "# pearson correlation\n",
    "pearson_3 = df_corr_3['Oxygen Saturation'].corr(df_corr_3['Risk Category'])\n",
    "print(f\"Pearson: {pearson_3}\")"
   ]
  },
  {
   "cell_type": "code",
   "execution_count": 64,
   "id": "036903b0",
   "metadata": {},
   "outputs": [
    {
     "name": "stdout",
     "output_type": "stream",
     "text": [
      "pb_r: -0.0006522071149840282, pb_b: 0.770524664729982\n"
     ]
    }
   ],
   "source": [
    "# point biserial\n",
    "pb_r, pb_p = stats.pointbiserialr(df_corr_3['Oxygen Saturation'],df_corr_3['Risk Category'])\n",
    "print(f\"pb_r: {pb_r}, pb_b: {pb_p}\")"
   ]
  },
  {
   "cell_type": "code",
   "execution_count": 66,
   "id": "1a9e9a5d",
   "metadata": {},
   "outputs": [
    {
     "data": {
      "image/png": "[encoded data removed]",
      "text/plain": [
       "<Figure size 600x400 with 1 Axes>"
      ]
     },
     "metadata": {},
     "output_type": "display_data"
    }
   ],
   "source": [
    "# Visualization between Heat Rate and Risk Category\n",
    "plt.figure(figsize=(6,4))\n",
    "sns.boxplot(x='Risk Category', y='Oxygen Saturation', data=df_corr_3)\n",
    "plt.title('Heart Rate by Risk Category (0=Low, 1=High)')\n",
    "plt.xlabel(\"Risk Category\")\n",
    "plt.ylabel(\"Oxygen Saturation\")\n",
    "plt.show()"
   ]
  },
  {
   "cell_type": "code",
   "execution_count": null,
   "id": "e1819002",
   "metadata": {},
   "outputs": [],
   "source": [
    "# Prepare data, train LinearRegression and LogisticRegression (binary target)\n",
    "# from sklearn.model_selection import train_test_split\n",
    "# from sklearn.preprocessing import StandardScaler\n",
    "# from sklearn.linear_model import LinearRegression, LogisticRegression\n",
    "# from sklearn.metrics import r2_score, mean_squared_error, accuracy_score, precision_score, recall_score, f1_score, confusion_matrix, classification_report\n",
    "\n",
    "# # ensure target numeric\n",
    "# df_1['Risk Category'] = pd.to_numeric(df_1['Risk Category'], errors='coerce')\n",
    "\n",
    "# # select numeric feature columns (drop target)\n",
    "# num_cols = df_1.select_dtypes(include=['number']).columns.tolist()\n",
    "# if 'Risk Category' in num_cols:\n",
    "#     num_cols.remove('Risk Category')\n",
    "\n",
    "# X = df_1[num_cols]\n",
    "# y = df_1['Risk Category']\n",
    "\n",
    "# # drop rows with missing values\n",
    "# data = pd.concat([X, y], axis=1).dropna()\n",
    "# X = data[num_cols]\n",
    "# y = data['Risk Category']\n",
    "\n",
    "# # train/test split\n",
    "# X_train, X_test, y_train, y_test = train_test_split(X, y, test_size=0.2, random_state=42, stratify=y)\n",
    "\n",
    "# # scale features\n",
    "# scaler = StandardScaler()\n",
    "# X_train_s = scaler.fit_transform(X_train)\n",
    "# X_test_s = scaler.transform(X_test)\n",
    "\n",
    "# # Linear regression (not ideal for binary target, used here for demonstration)\n",
    "# lin = LinearRegression()\n",
    "# lin.fit(X_train_s, y_train)\n",
    "# y_pred_reg = lin.predict(X_test_s)\n",
    "\n",
    "# print(\"LinearRegression evaluation (regression metrics):\")\n",
    "# print(\"R2:\", r2_score(y_test, y_pred_reg))\n",
    "# print(\"MSE:\", mean_squared_error(y_test, y_pred_reg))\n",
    "\n",
    "# # Logistic regression (appropriate for binary classification)\n",
    "# log = LogisticRegression(max_iter=2000)\n",
    "# log.fit(X_train_s, y_train)\n",
    "# y_pred_clf = log.predict(X_test_s)\n",
    "\n",
    "# print(\"\\nLogisticRegression evaluation (classification metrics):\")\n",
    "# print(\"Accuracy:\", accuracy_score(y_test, y_pred_clf))\n",
    "# print(\"Precision:\", precision_score(y_test, y_pred_clf, zero_division=0))\n",
    "# print(\"Recall:\", recall_score(y_test, y_pred_clf, zero_division=0))\n",
    "# print(\"F1:\", f1_score(y_test, y_pred_clf, zero_division=0))\n",
    "# print(\"\\nConfusion matrix:\\n\", confusion_matrix(y_test, y_pred_clf))\n",
    "# print(\"\\nClassification report:\\n\", classification_report(y_test, y_pred_clf, zero_division=0))"
   ]
  }
 ],
 "metadata": {
  "kernelspec": {
   "display_name": "dev-env",
   "language": "python",
   "name": "python3"
  },
  "language_info": {
   "codemirror_mode": {
    "name": "ipython",
    "version": 3
   },
   "file_extension": ".py",
   "mimetype": "text/x-python",
   "name": "python",
   "nbconvert_exporter": "python",
   "pygments_lexer": "ipython3",
   "version": "3.12.3"
  }
 },
 "nbformat": 4,
 "nbformat_minor": 5
}
