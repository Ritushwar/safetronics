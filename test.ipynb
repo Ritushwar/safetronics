{
 "cells": [
  {
   "cell_type": "code",
   "execution_count": 80,
   "id": "d187e2ce",
   "metadata": {},
   "outputs": [],
   "source": [
    "import joblib\n",
    "import numpy as np\n",
    "import pandas as pd"
   ]
  },
  {
   "cell_type": "code",
   "execution_count": 81,
   "id": "431955c3",
   "metadata": {},
   "outputs": [],
   "source": [
    "# load the model, scaler and feature name\n",
    "model = joblib.load(\"LogisticRegression_model.sav\")\n",
    "scaler = joblib.load(\"scaler.sav\")\n",
    "feature_name = joblib.load(\"feature_names.sav\")"
   ]
  },
  {
   "cell_type": "code",
   "execution_count": 82,
   "id": "036293bb",
   "metadata": {},
   "outputs": [
    {
     "data": {
      "text/plain": [
       "['Heart Rate',\n",
       " 'Body Temperature',\n",
       " 'Oxygen Saturation',\n",
       " 'Age',\n",
       " 'Gender',\n",
       " 'Weight',\n",
       " 'Height (m)',\n",
       " 'HRV',\n",
       " 'BMI']"
      ]
     },
     "execution_count": 82,
     "metadata": {},
     "output_type": "execute_result"
    }
   ],
   "source": [
    "feature_name"
   ]
  },
  {
   "cell_type": "code",
   "execution_count": 83,
   "id": "98b5caa8",
   "metadata": {},
   "outputs": [],
   "source": [
    "# new sample data\n",
    "new_sample = {\n",
    "    \"Heart Rate\": 83,\n",
    "    \"Body Temperature\": 36.044191,\n",
    "    \"Oxygen Saturation\": 98.584497,\n",
    "    \"Age\" : 50,\n",
    "    \"Gender\": 1,\n",
    "    \"Weight\": 79.295332,\n",
    "    \"Height (m)\": 1.672735,\n",
    "    \"HRV\": 0.098520,\n",
    "    \"BMI\": 28.339570\n",
    "}\n",
    "\n",
    "# convert into dataframe\n",
    "X_new = pd.DataFrame([new_sample])\n",
    "X_new = X_new.reindex(columns=feature_name, fill_value=0)\n",
    "X_new = X_new.fillna(0)"
   ]
  },
  {
   "cell_type": "code",
   "execution_count": 84,
   "id": "8de05735",
   "metadata": {},
   "outputs": [
    {
     "data": {
      "text/html": [
       "<div>\n",
       "<style scoped>\n",
       "    .dataframe tbody tr th:only-of-type {\n",
       "        vertical-align: middle;\n",
       "    }\n",
       "\n",
       "    .dataframe tbody tr th {\n",
       "        vertical-align: top;\n",
       "    }\n",
       "\n",
       "    .dataframe thead th {\n",
       "        text-align: right;\n",
       "    }\n",
       "</style>\n",
       "<table border=\"1\" class=\"dataframe\">\n",
       "  <thead>\n",
       "    <tr style=\"text-align: right;\">\n",
       "      <th></th>\n",
       "      <th>Heart Rate</th>\n",
       "      <th>Body Temperature</th>\n",
       "      <th>Oxygen Saturation</th>\n",
       "      <th>Age</th>\n",
       "      <th>Gender</th>\n",
       "      <th>Weight</th>\n",
       "      <th>Height (m)</th>\n",
       "      <th>HRV</th>\n",
       "      <th>BMI</th>\n",
       "    </tr>\n",
       "  </thead>\n",
       "  <tbody>\n",
       "    <tr>\n",
       "      <th>0</th>\n",
       "      <td>83</td>\n",
       "      <td>36.044191</td>\n",
       "      <td>98.584497</td>\n",
       "      <td>50</td>\n",
       "      <td>1</td>\n",
       "      <td>79.295332</td>\n",
       "      <td>1.672735</td>\n",
       "      <td>0.09852</td>\n",
       "      <td>28.33957</td>\n",
       "    </tr>\n",
       "  </tbody>\n",
       "</table>\n",
       "</div>"
      ],
      "text/plain": [
       "   Heart Rate  Body Temperature  Oxygen Saturation  Age  Gender     Weight  \\\n",
       "0          83         36.044191          98.584497   50       1  79.295332   \n",
       "\n",
       "   Height (m)      HRV       BMI  \n",
       "0    1.672735  0.09852  28.33957  "
      ]
     },
     "execution_count": 84,
     "metadata": {},
     "output_type": "execute_result"
    }
   ],
   "source": [
    "X_new.head()"
   ]
  },
  {
   "cell_type": "code",
   "execution_count": 85,
   "id": "5f264ee2",
   "metadata": {},
   "outputs": [
    {
     "name": "stdout",
     "output_type": "stream",
     "text": [
      "<class 'pandas.core.frame.DataFrame'>\n",
      "RangeIndex: 1 entries, 0 to 0\n",
      "Data columns (total 9 columns):\n",
      " #   Column             Non-Null Count  Dtype  \n",
      "---  ------             --------------  -----  \n",
      " 0   Heart Rate         1 non-null      int64  \n",
      " 1   Body Temperature   1 non-null      float64\n",
      " 2   Oxygen Saturation  1 non-null      float64\n",
      " 3   Age                1 non-null      int64  \n",
      " 4   Gender             1 non-null      int64  \n",
      " 5   Weight             1 non-null      float64\n",
      " 6   Height (m)         1 non-null      float64\n",
      " 7   HRV                1 non-null      float64\n",
      " 8   BMI                1 non-null      float64\n",
      "dtypes: float64(6), int64(3)\n",
      "memory usage: 204.0 bytes\n"
     ]
    }
   ],
   "source": [
    "X_new.info()"
   ]
  },
  {
   "cell_type": "code",
   "execution_count": 86,
   "id": "f48aa951",
   "metadata": {},
   "outputs": [],
   "source": [
    "# scale and predict\n",
    "X_new_scaled = scaler.fit_transform(X_new)\n",
    "pred_label = model.predict(X_new_scaled)"
   ]
  },
  {
   "cell_type": "code",
   "execution_count": 87,
   "id": "f18104cd",
   "metadata": {},
   "outputs": [
    {
     "data": {
      "text/plain": [
       "1"
      ]
     },
     "execution_count": 87,
     "metadata": {},
     "output_type": "execute_result"
    }
   ],
   "source": [
    "pred_label[0].item()"
   ]
  },
  {
   "cell_type": "code",
   "execution_count": 88,
   "id": "a1bdd6d6",
   "metadata": {},
   "outputs": [
    {
     "data": {
      "text/plain": [
       "np.float64(0.6285778212272329)"
      ]
     },
     "execution_count": 88,
     "metadata": {},
     "output_type": "execute_result"
    }
   ],
   "source": [
    "# for probability of high risk\n",
    "pred_prob = model.predict_proba(X_new_scaled)[:,1]\n",
    "pred_prob[0]"
   ]
  }
 ],
 "metadata": {
  "kernelspec": {
   "display_name": ".venv",
   "language": "python",
   "name": "python3"
  },
  "language_info": {
   "codemirror_mode": {
    "name": "ipython",
    "version": 3
   },
   "file_extension": ".py",
   "mimetype": "text/x-python",
   "name": "python",
   "nbconvert_exporter": "python",
   "pygments_lexer": "ipython3",
   "version": "3.12.3"
  }
 },
 "nbformat": 4,
 "nbformat_minor": 5
}
